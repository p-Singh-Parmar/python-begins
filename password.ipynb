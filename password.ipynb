{
 "cells": [
  {
   "cell_type": "code",
   "execution_count": 10,
   "metadata": {},
   "outputs": [],
   "source": [
    "from tkinter import *\n",
    "import random, string"
   ]
  },
  {
   "cell_type": "code",
   "execution_count": null,
   "metadata": {},
   "outputs": [],
   "source": [
    "root = Tk()\n",
    "root.geometry(\"400x200\")\n",
    "root.title(\"Password Generator\")\n",
    "\n",
    "# intro text\n",
    "title=StringVar()\n",
    "label = Label(root, textvariable=title).pack()\n",
    "title.set(\"The strenght of password:\")\n",
    "\n",
    "def selection():\n",
    "    selection = choice.get()\n",
    "    \n",
    "choice=intVar()\n",
    "R1=Radiobutton(root.text=\"POOR\",variable=choice,value=1, command=selection).pack(anchor=CENTER)\n",
    "R1=Radiobutton(root.text=\"AVERAGE\",variable=choice,value=2, command=selection).pack(anchor=CENTER)\n",
    "R1=Radiobutton(root.text=\"ADVANCED\",variable=choice,value=3, command=selection).pack(anchor=CENTER)\n",
    "\n",
    "labelchoice=Label(root)\n",
    "labelchoice.pack()\n",
    "\n",
    "lenlabel=StringVar()\n",
    "lenlabel.set(\"password length:\")\n",
    "lentitle=Label(root.textvariable=lenlabel).pack()\n",
    "\n",
    "val=intVar()\n",
    "spinlength=Spinbox(root, from)\n"
   ]
  }
 ],
 "metadata": {
  "kernelspec": {
   "display_name": "Python 3",
   "language": "python",
   "name": "python3"
  },
  "language_info": {
   "codemirror_mode": {
    "name": "ipython",
    "version": 3
   },
   "file_extension": ".py",
   "mimetype": "text/x-python",
   "name": "python",
   "nbconvert_exporter": "python",
   "pygments_lexer": "ipython3",
   "version": "3.8.3"
  }
 },
 "nbformat": 4,
 "nbformat_minor": 4
}
