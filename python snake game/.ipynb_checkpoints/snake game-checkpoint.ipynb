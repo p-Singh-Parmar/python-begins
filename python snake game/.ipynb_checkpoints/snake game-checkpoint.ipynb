{
 "cells": [
  {
   "cell_type": "code",
   "execution_count": 1,
   "metadata": {},
   "outputs": [],
   "source": [
    "from tkinter import *\n",
    "import turtle\n",
    "from turtle import *\n",
    "\n",
    "from random import randrange\n",
    "\n",
    "from freegames import square,vector\n",
    "\n",
    "window=turtle.Screen()\n",
    "window.title(\"Snake game\")\n",
    "window.bgcolor(\"green\")\n",
    "window.setup(width=800, height=600)\n",
    "window.tracer(0)\n",
    "\n",
    "food = vector(0,0)\n",
    "snake = [vector(10,0)]\n",
    "aim = vector(0,-10)\n",
    "\n",
    "def change(x,y):\n",
    "    aim.x=x\n",
    "    aim.y=y\n",
    "    \n",
    "def inside(head):\n",
    "    return -200<head.x<190 and -200<head.y<190\n",
    "\n",
    "def move():\n",
    "    head=snake[-1].copy()\n",
    "    head.move(aim)\n",
    "    \n",
    "    if not inside(head) or head in snake:\n",
    "        square(head.x, head.y,9,'red')\n",
    "        update()\n",
    "        return\n",
    "    \n",
    "    snake.append()\n",
    "    \n",
    "    if head==food:\n",
    "        print('snake',len(snake))\n",
    "        food.x=randrange(-15,15)*10\n",
    "        food.y=randrange(-15,15)*10\n",
    "        \n",
    "    else:\n",
    "        snake.pop()\n",
    "        \n",
    "    clear()\n",
    "    \n",
    "    for body in snake:\n",
    "        sqaure(body.x,body.y,9,'green')\n",
    "        \n",
    "    square(food.x,food.y,9,'red')\n",
    "    window.update()\n",
    "    window.ontimer(move,100)\n",
    "    \n",
    "    hideturtle()\n",
    "    window.tracer(False)\n",
    "    window.listen()\n",
    "    window.onkey(lambda:changes(10,0),'Right')\n",
    "    window.onkey(lambda:chamges(-10,0),'Left')\n",
    "    window.onkey(lambda:chamges(0,10),'Up')\n",
    "    window.onkey(lambda:changes(0,-10),'Down')\n",
    "    \n",
    "    move()\n",
    "    done()"
   ]
  },
  {
   "cell_type": "code",
   "execution_count": 3,
   "metadata": {},
   "outputs": [],
   "source": []
  },
  {
   "cell_type": "code",
   "execution_count": 4,
   "metadata": {},
   "outputs": [],
   "source": []
  },
  {
   "cell_type": "code",
   "execution_count": 5,
   "metadata": {},
   "outputs": [],
   "source": []
  },
  {
   "cell_type": "code",
   "execution_count": null,
   "metadata": {},
   "outputs": [],
   "source": []
  }
 ],
 "metadata": {
  "kernelspec": {
   "display_name": "Python 3",
   "language": "python",
   "name": "python3"
  },
  "language_info": {
   "codemirror_mode": {
    "name": "ipython",
    "version": 3
   },
   "file_extension": ".py",
   "mimetype": "text/x-python",
   "name": "python",
   "nbconvert_exporter": "python",
   "pygments_lexer": "ipython3",
   "version": "3.8.3"
  }
 },
 "nbformat": 4,
 "nbformat_minor": 4
}
