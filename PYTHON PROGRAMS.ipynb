{
 "cells": [
  {
   "cell_type": "markdown",
   "id": "c94675d5",
   "metadata": {},
   "source": [
    "# PRUNING TREE"
   ]
  },
  {
   "cell_type": "code",
   "execution_count": 1,
   "id": "356f5493",
   "metadata": {},
   "outputs": [
    {
     "ename": "NameError",
     "evalue": "name 'TreeNode' is not defined",
     "output_type": "error",
     "traceback": [
      "\u001b[1;31m---------------------------------------------------------------------------\u001b[0m",
      "\u001b[1;31mNameError\u001b[0m                                 Traceback (most recent call last)",
      "\u001b[1;32m<ipython-input-1-73cf00bfb061>\u001b[0m in \u001b[0;36m<module>\u001b[1;34m\u001b[0m\n\u001b[0;32m      5\u001b[0m \u001b[1;31m#         self.left = left\u001b[0m\u001b[1;33m\u001b[0m\u001b[1;33m\u001b[0m\u001b[1;33m\u001b[0m\u001b[0m\n\u001b[0;32m      6\u001b[0m \u001b[1;31m#         self.right = right\u001b[0m\u001b[1;33m\u001b[0m\u001b[1;33m\u001b[0m\u001b[1;33m\u001b[0m\u001b[0m\n\u001b[1;32m----> 7\u001b[1;33m \u001b[1;32mclass\u001b[0m \u001b[0mSolution\u001b[0m\u001b[1;33m:\u001b[0m\u001b[1;33m\u001b[0m\u001b[1;33m\u001b[0m\u001b[0m\n\u001b[0m\u001b[0;32m      8\u001b[0m     \u001b[1;32mdef\u001b[0m \u001b[0mpruneTree\u001b[0m\u001b[1;33m(\u001b[0m\u001b[0mself\u001b[0m\u001b[1;33m,\u001b[0m \u001b[0mroot\u001b[0m\u001b[1;33m:\u001b[0m \u001b[0mTreeNode\u001b[0m\u001b[1;33m)\u001b[0m \u001b[1;33m->\u001b[0m \u001b[0mTreeNode\u001b[0m\u001b[1;33m:\u001b[0m\u001b[1;33m\u001b[0m\u001b[1;33m\u001b[0m\u001b[0m\n\u001b[0;32m      9\u001b[0m         \u001b[1;32mif\u001b[0m \u001b[1;32mnot\u001b[0m \u001b[0mroot\u001b[0m\u001b[1;33m:\u001b[0m\u001b[1;33m\u001b[0m\u001b[1;33m\u001b[0m\u001b[0m\n",
      "\u001b[1;32m<ipython-input-1-73cf00bfb061>\u001b[0m in \u001b[0;36mSolution\u001b[1;34m()\u001b[0m\n\u001b[0;32m      6\u001b[0m \u001b[1;31m#         self.right = right\u001b[0m\u001b[1;33m\u001b[0m\u001b[1;33m\u001b[0m\u001b[1;33m\u001b[0m\u001b[0m\n\u001b[0;32m      7\u001b[0m \u001b[1;32mclass\u001b[0m \u001b[0mSolution\u001b[0m\u001b[1;33m:\u001b[0m\u001b[1;33m\u001b[0m\u001b[1;33m\u001b[0m\u001b[0m\n\u001b[1;32m----> 8\u001b[1;33m     \u001b[1;32mdef\u001b[0m \u001b[0mpruneTree\u001b[0m\u001b[1;33m(\u001b[0m\u001b[0mself\u001b[0m\u001b[1;33m,\u001b[0m \u001b[0mroot\u001b[0m\u001b[1;33m:\u001b[0m \u001b[0mTreeNode\u001b[0m\u001b[1;33m)\u001b[0m \u001b[1;33m->\u001b[0m \u001b[0mTreeNode\u001b[0m\u001b[1;33m:\u001b[0m\u001b[1;33m\u001b[0m\u001b[1;33m\u001b[0m\u001b[0m\n\u001b[0m\u001b[0;32m      9\u001b[0m         \u001b[1;32mif\u001b[0m \u001b[1;32mnot\u001b[0m \u001b[0mroot\u001b[0m\u001b[1;33m:\u001b[0m\u001b[1;33m\u001b[0m\u001b[1;33m\u001b[0m\u001b[0m\n\u001b[0;32m     10\u001b[0m             \u001b[1;32mreturn\u001b[0m \u001b[1;32mNone\u001b[0m\u001b[1;33m\u001b[0m\u001b[1;33m\u001b[0m\u001b[0m\n",
      "\u001b[1;31mNameError\u001b[0m: name 'TreeNode' is not defined"
     ]
    }
   ],
   "source": [
    "# Definition for a binary tree node.\n",
    "# class TreeNode:\n",
    "#     def __init__(self, val=0, left=None, right=None):\n",
    "#         self.val = val\n",
    "#         self.left = left\n",
    "#         self.right = right\n",
    "class Solution:\n",
    "    def pruneTree(self, root: TreeNode) -> TreeNode:\n",
    "        if not root:\n",
    "            return None\n",
    "        \n",
    "        root.left=self.pruneTree(root.left)\n",
    "        root.right=self.pruneTree(root.right)\n",
    "        \n",
    "        if root.left or root.right:\n",
    "            return root\n",
    "        if root.val==0: return None\n",
    "        return root\n",
    "    "
   ]
  },
  {
   "cell_type": "markdown",
   "id": "a4531adc",
   "metadata": {},
   "source": [
    "# convert sorted array to binary tree"
   ]
  },
  {
   "cell_type": "code",
   "execution_count": null,
   "id": "c528a9a2",
   "metadata": {},
   "outputs": [],
   "source": [
    "class Solution:\n",
    "    \n",
    "    def sortedArrayToBST(self, nums: List[int]) -> TreeNode:\n",
    "        def helper(strt, end):\n",
    "            if strt>end:\n",
    "                return None\n",
    "            \n",
    "            mid=(end+strt)//2\n",
    "            root = TreeNode(nums[mid])\n",
    "        \n",
    "            root.left=helper(strt, mid-1)\n",
    "            root.right=helper(mid+1, end)\n",
    "            return root\n",
    "    \n",
    "        return helper(0, len(nums)-1)"
   ]
  },
  {
   "cell_type": "markdown",
   "id": "7e8d9fa3",
   "metadata": {},
   "source": [
    "# custom sort string"
   ]
  },
  {
   "cell_type": "code",
   "execution_count": null,
   "id": "0d4a5cd5",
   "metadata": {},
   "outputs": [],
   "source": [
    "class Solution:\n",
    "    def customSortString(self, order: str, st: str) -> str:\n",
    "        s=\"\"\n",
    "        for i in order:\n",
    "            if i in st:\n",
    "                while s.count(i)!=st.count(i):\n",
    "                    s+=i\n",
    "                    \n",
    "        for i in st:\n",
    "            if i not in order:\n",
    "                s+=i\n",
    "                \n",
    "        return s"
   ]
  },
  {
   "cell_type": "markdown",
   "id": "76901d6a",
   "metadata": {},
   "source": [
    "# invert binary tree"
   ]
  },
  {
   "cell_type": "code",
   "execution_count": null,
   "id": "051e5318",
   "metadata": {},
   "outputs": [],
   "source": [
    "# Definition for a binary tree node.\n",
    "# class TreeNode:\n",
    "#     def __init__(self, val=0, left=None, right=None):\n",
    "#         self.val = val\n",
    "#         self.left = left\n",
    "#         self.right = right\n",
    "class Solution:\n",
    "    def inorder(self, root: TreeNode)-> None:\n",
    "        if root is None:return\n",
    "        \n",
    "        root.left, root.right = root.right, root.left\n",
    "            \n",
    "       \n",
    "        self.inorder(root.left)\n",
    "        self.inorder(root.right)\n",
    "        \n",
    "    def invertTree(self, root: TreeNode) -> TreeNode:\n",
    "        \n",
    "        self.inorder(root)\n",
    "        return root"
   ]
  }
 ],
 "metadata": {
  "kernelspec": {
   "display_name": "Python 3",
   "language": "python",
   "name": "python3"
  },
  "language_info": {
   "codemirror_mode": {
    "name": "ipython",
    "version": 3
   },
   "file_extension": ".py",
   "mimetype": "text/x-python",
   "name": "python",
   "nbconvert_exporter": "python",
   "pygments_lexer": "ipython3",
   "version": "3.8.10"
  }
 },
 "nbformat": 4,
 "nbformat_minor": 5
}
