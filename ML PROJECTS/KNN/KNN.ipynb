{
 "cells": [
  {
   "cell_type": "code",
   "execution_count": 31,
   "id": "91721f03",
   "metadata": {},
   "outputs": [],
   "source": [
    "from sklearn import datasets\n",
    "import pandas as pd\n",
    "import csv"
   ]
  },
  {
   "cell_type": "code",
   "execution_count": 57,
   "id": "89b9522a",
   "metadata": {},
   "outputs": [],
   "source": [
    "with open('IRIS.csv', 'rb') as csvfile:\n",
    "    lines=csv.reader(csvfile)\n",
    "# rb-> reading binary"
   ]
  },
  {
   "cell_type": "code",
   "execution_count": 43,
   "id": "e26992c5",
   "metadata": {},
   "outputs": [
    {
     "data": {
      "text/plain": [
       "'\\na=datasets.load_iris()\\nb=csv.reader(a)\\ndata=list(a)\\n'"
      ]
     },
     "execution_count": 43,
     "metadata": {},
     "output_type": "execute_result"
    }
   ],
   "source": [
    "\"\"\"\n",
    "a=datasets.load_iris()\n",
    "b=csv.reader(a)\n",
    "data=list(a)\n",
    "\"\"\""
   ]
  },
  {
   "cell_type": "code",
   "execution_count": 38,
   "id": "afb53aa5",
   "metadata": {},
   "outputs": [
    {
     "data": {
      "text/plain": [
       "['data',\n",
       " 'target',\n",
       " 'frame',\n",
       " 'target_names',\n",
       " 'DESCR',\n",
       " 'feature_names',\n",
       " 'filename']"
      ]
     },
     "execution_count": 38,
     "metadata": {},
     "output_type": "execute_result"
    }
   ],
   "source": [
    "#data"
   ]
  },
  {
   "cell_type": "code",
   "execution_count": null,
   "id": "15444449",
   "metadata": {},
   "outputs": [],
   "source": [
    "# Iris dataset has 4 attributes-> sepal-width, sepal-length, petal-width, petal-length\n",
    "# And we have to predict in which class these plant belong\n",
    "# There are three classes-> Iris-santosa, iris-virginia, iris-versicolor"
   ]
  },
  {
   "cell_type": "code",
   "execution_count": 58,
   "id": "a4917db9",
   "metadata": {},
   "outputs": [
    {
     "name": "stdout",
     "output_type": "stream",
     "text": [
      "sepal_length, sepal_width, petal_length, petal_width, species\n",
      "5.1, 3.5, 1.4, 0.2, Iris-setosa\n",
      "4.9, 3, 1.4, 0.2, Iris-setosa\n",
      "4.7, 3.2, 1.3, 0.2, Iris-setosa\n",
      "4.6, 3.1, 1.5, 0.2, Iris-setosa\n",
      "5, 3.6, 1.4, 0.2, Iris-setosa\n",
      "5.4, 3.9, 1.7, 0.4, Iris-setosa\n",
      "4.6, 3.4, 1.4, 0.3, Iris-setosa\n",
      "5, 3.4, 1.5, 0.2, Iris-setosa\n",
      "4.4, 2.9, 1.4, 0.2, Iris-setosa\n",
      "4.9, 3.1, 1.5, 0.1, Iris-setosa\n",
      "5.4, 3.7, 1.5, 0.2, Iris-setosa\n",
      "4.8, 3.4, 1.6, 0.2, Iris-setosa\n",
      "4.8, 3, 1.4, 0.1, Iris-setosa\n",
      "4.3, 3, 1.1, 0.1, Iris-setosa\n",
      "5.8, 4, 1.2, 0.2, Iris-setosa\n",
      "5.7, 4.4, 1.5, 0.4, Iris-setosa\n",
      "5.4, 3.9, 1.3, 0.4, Iris-setosa\n",
      "5.1, 3.5, 1.4, 0.3, Iris-setosa\n",
      "5.7, 3.8, 1.7, 0.3, Iris-setosa\n",
      "5.1, 3.8, 1.5, 0.3, Iris-setosa\n",
      "5.4, 3.4, 1.7, 0.2, Iris-setosa\n",
      "5.1, 3.7, 1.5, 0.4, Iris-setosa\n",
      "4.6, 3.6, 1, 0.2, Iris-setosa\n",
      "5.1, 3.3, 1.7, 0.5, Iris-setosa\n",
      "4.8, 3.4, 1.9, 0.2, Iris-setosa\n",
      "5, 3, 1.6, 0.2, Iris-setosa\n",
      "5, 3.4, 1.6, 0.4, Iris-setosa\n",
      "5.2, 3.5, 1.5, 0.2, Iris-setosa\n",
      "5.2, 3.4, 1.4, 0.2, Iris-setosa\n",
      "4.7, 3.2, 1.6, 0.2, Iris-setosa\n",
      "4.8, 3.1, 1.6, 0.2, Iris-setosa\n",
      "5.4, 3.4, 1.5, 0.4, Iris-setosa\n",
      "5.2, 4.1, 1.5, 0.1, Iris-setosa\n",
      "5.5, 4.2, 1.4, 0.2, Iris-setosa\n",
      "4.9, 3.1, 1.5, 0.1, Iris-setosa\n",
      "5, 3.2, 1.2, 0.2, Iris-setosa\n",
      "5.5, 3.5, 1.3, 0.2, Iris-setosa\n",
      "4.9, 3.1, 1.5, 0.1, Iris-setosa\n",
      "4.4, 3, 1.3, 0.2, Iris-setosa\n",
      "5.1, 3.4, 1.5, 0.2, Iris-setosa\n",
      "5, 3.5, 1.3, 0.3, Iris-setosa\n",
      "4.5, 2.3, 1.3, 0.3, Iris-setosa\n",
      "4.4, 3.2, 1.3, 0.2, Iris-setosa\n",
      "5, 3.5, 1.6, 0.6, Iris-setosa\n",
      "5.1, 3.8, 1.9, 0.4, Iris-setosa\n",
      "4.8, 3, 1.4, 0.3, Iris-setosa\n",
      "5.1, 3.8, 1.6, 0.2, Iris-setosa\n",
      "4.6, 3.2, 1.4, 0.2, Iris-setosa\n",
      "5.3, 3.7, 1.5, 0.2, Iris-setosa\n",
      "5, 3.3, 1.4, 0.2, Iris-setosa\n",
      "7, 3.2, 4.7, 1.4, Iris-versicolor\n",
      "6.4, 3.2, 4.5, 1.5, Iris-versicolor\n",
      "6.9, 3.1, 4.9, 1.5, Iris-versicolor\n",
      "5.5, 2.3, 4, 1.3, Iris-versicolor\n",
      "6.5, 2.8, 4.6, 1.5, Iris-versicolor\n",
      "5.7, 2.8, 4.5, 1.3, Iris-versicolor\n",
      "6.3, 3.3, 4.7, 1.6, Iris-versicolor\n",
      "4.9, 2.4, 3.3, 1, Iris-versicolor\n",
      "6.6, 2.9, 4.6, 1.3, Iris-versicolor\n",
      "5.2, 2.7, 3.9, 1.4, Iris-versicolor\n",
      "5, 2, 3.5, 1, Iris-versicolor\n",
      "5.9, 3, 4.2, 1.5, Iris-versicolor\n",
      "6, 2.2, 4, 1, Iris-versicolor\n",
      "6.1, 2.9, 4.7, 1.4, Iris-versicolor\n",
      "5.6, 2.9, 3.6, 1.3, Iris-versicolor\n",
      "6.7, 3.1, 4.4, 1.4, Iris-versicolor\n",
      "5.6, 3, 4.5, 1.5, Iris-versicolor\n",
      "5.8, 2.7, 4.1, 1, Iris-versicolor\n",
      "6.2, 2.2, 4.5, 1.5, Iris-versicolor\n",
      "5.6, 2.5, 3.9, 1.1, Iris-versicolor\n",
      "5.9, 3.2, 4.8, 1.8, Iris-versicolor\n",
      "6.1, 2.8, 4, 1.3, Iris-versicolor\n",
      "6.3, 2.5, 4.9, 1.5, Iris-versicolor\n",
      "6.1, 2.8, 4.7, 1.2, Iris-versicolor\n",
      "6.4, 2.9, 4.3, 1.3, Iris-versicolor\n",
      "6.6, 3, 4.4, 1.4, Iris-versicolor\n",
      "6.8, 2.8, 4.8, 1.4, Iris-versicolor\n",
      "6.7, 3, 5, 1.7, Iris-versicolor\n",
      "6, 2.9, 4.5, 1.5, Iris-versicolor\n",
      "5.7, 2.6, 3.5, 1, Iris-versicolor\n",
      "5.5, 2.4, 3.8, 1.1, Iris-versicolor\n",
      "5.5, 2.4, 3.7, 1, Iris-versicolor\n",
      "5.8, 2.7, 3.9, 1.2, Iris-versicolor\n",
      "6, 2.7, 5.1, 1.6, Iris-versicolor\n",
      "5.4, 3, 4.5, 1.5, Iris-versicolor\n",
      "6, 3.4, 4.5, 1.6, Iris-versicolor\n",
      "6.7, 3.1, 4.7, 1.5, Iris-versicolor\n",
      "6.3, 2.3, 4.4, 1.3, Iris-versicolor\n",
      "5.6, 3, 4.1, 1.3, Iris-versicolor\n",
      "5.5, 2.5, 4, 1.3, Iris-versicolor\n",
      "5.5, 2.6, 4.4, 1.2, Iris-versicolor\n",
      "6.1, 3, 4.6, 1.4, Iris-versicolor\n",
      "5.8, 2.6, 4, 1.2, Iris-versicolor\n",
      "5, 2.3, 3.3, 1, Iris-versicolor\n",
      "5.6, 2.7, 4.2, 1.3, Iris-versicolor\n",
      "5.7, 3, 4.2, 1.2, Iris-versicolor\n",
      "5.7, 2.9, 4.2, 1.3, Iris-versicolor\n",
      "6.2, 2.9, 4.3, 1.3, Iris-versicolor\n",
      "5.1, 2.5, 3, 1.1, Iris-versicolor\n",
      "5.7, 2.8, 4.1, 1.3, Iris-versicolor\n",
      "6.3, 3.3, 6, 2.5, Iris-virginica\n",
      "5.8, 2.7, 5.1, 1.9, Iris-virginica\n",
      "7.1, 3, 5.9, 2.1, Iris-virginica\n",
      "6.3, 2.9, 5.6, 1.8, Iris-virginica\n",
      "6.5, 3, 5.8, 2.2, Iris-virginica\n",
      "7.6, 3, 6.6, 2.1, Iris-virginica\n",
      "4.9, 2.5, 4.5, 1.7, Iris-virginica\n",
      "7.3, 2.9, 6.3, 1.8, Iris-virginica\n",
      "6.7, 2.5, 5.8, 1.8, Iris-virginica\n",
      "7.2, 3.6, 6.1, 2.5, Iris-virginica\n",
      "6.5, 3.2, 5.1, 2, Iris-virginica\n",
      "6.4, 2.7, 5.3, 1.9, Iris-virginica\n",
      "6.8, 3, 5.5, 2.1, Iris-virginica\n",
      "5.7, 2.5, 5, 2, Iris-virginica\n",
      "5.8, 2.8, 5.1, 2.4, Iris-virginica\n",
      "6.4, 3.2, 5.3, 2.3, Iris-virginica\n",
      "6.5, 3, 5.5, 1.8, Iris-virginica\n",
      "7.7, 3.8, 6.7, 2.2, Iris-virginica\n",
      "7.7, 2.6, 6.9, 2.3, Iris-virginica\n",
      "6, 2.2, 5, 1.5, Iris-virginica\n",
      "6.9, 3.2, 5.7, 2.3, Iris-virginica\n",
      "5.6, 2.8, 4.9, 2, Iris-virginica\n",
      "7.7, 2.8, 6.7, 2, Iris-virginica\n",
      "6.3, 2.7, 4.9, 1.8, Iris-virginica\n",
      "6.7, 3.3, 5.7, 2.1, Iris-virginica\n",
      "7.2, 3.2, 6, 1.8, Iris-virginica\n",
      "6.2, 2.8, 4.8, 1.8, Iris-virginica\n",
      "6.1, 3, 4.9, 1.8, Iris-virginica\n",
      "6.4, 2.8, 5.6, 2.1, Iris-virginica\n",
      "7.2, 3, 5.8, 1.6, Iris-virginica\n",
      "7.4, 2.8, 6.1, 1.9, Iris-virginica\n",
      "7.9, 3.8, 6.4, 2, Iris-virginica\n",
      "6.4, 2.8, 5.6, 2.2, Iris-virginica\n",
      "6.3, 2.8, 5.1, 1.5, Iris-virginica\n",
      "6.1, 2.6, 5.6, 1.4, Iris-virginica\n",
      "7.7, 3, 6.1, 2.3, Iris-virginica\n",
      "6.3, 3.4, 5.6, 2.4, Iris-virginica\n",
      "6.4, 3.1, 5.5, 1.8, Iris-virginica\n",
      "6, 3, 4.8, 1.8, Iris-virginica\n",
      "6.9, 3.1, 5.4, 2.1, Iris-virginica\n",
      "6.7, 3.1, 5.6, 2.4, Iris-virginica\n",
      "6.9, 3.1, 5.1, 2.3, Iris-virginica\n",
      "5.8, 2.7, 5.1, 1.9, Iris-virginica\n",
      "6.8, 3.2, 5.9, 2.3, Iris-virginica\n",
      "6.7, 3.3, 5.7, 2.5, Iris-virginica\n",
      "6.7, 3, 5.2, 2.3, Iris-virginica\n",
      "6.3, 2.5, 5, 1.9, Iris-virginica\n",
      "6.5, 3, 5.2, 2, Iris-virginica\n",
      "6.2, 3.4, 5.4, 2.3, Iris-virginica\n",
      "5.9, 3, 5.1, 1.8, Iris-virginica\n"
     ]
    }
   ],
   "source": [
    "#opening our Iris csv file\n",
    "with open('IRIS.csv') as csvfile:\n",
    "    lines=csv.reader(csvfile)\n",
    "    for row in lines:\n",
    "        print(', '.join(row))    # joining all data in a string separating each data by ,"
   ]
  },
  {
   "cell_type": "code",
   "execution_count": 82,
   "id": "ec0047f7",
   "metadata": {},
   "outputs": [
    {
     "data": {
      "text/plain": [
       "_csv.reader"
      ]
     },
     "execution_count": 82,
     "metadata": {},
     "output_type": "execute_result"
    }
   ],
   "source": [
    "type(lines)"
   ]
  },
  {
   "cell_type": "code",
   "execution_count": 97,
   "id": "7af763fd",
   "metadata": {},
   "outputs": [],
   "source": [
    "# now splitting the dataset in into training dataset that knn can use to amke predictions and\n",
    "# a testing dataset to test the accuracy\n",
    "\n",
    "# So first we need to convert the flower measure that will be loaded as string into numbers that we can work\n",
    "# Next we need to split dataset randomly into train and test. At ratio of 67:33 for test:train is standard ratio for this purpose\n",
    "\n",
    "import random\n",
    "def loadDataset(filename, split, trainingSet=[], testSet=[]):\n",
    "    with open(filename,'r') as csvfile:\n",
    "        lines=csv.reader(csvfile)\n",
    "        dataset=list(lines)\n",
    "        for x in range(1,len(dataset)):\n",
    "            for y in range(4):     #since there re 4 columns in iris\n",
    "                dataset[x][y]=float(dataset[x][y])    # converting string values in to numbers\n",
    "                \n",
    "            if random.random() < split:\n",
    "                trainingSet.append(dataset[x])\n",
    "            else:\n",
    "                testSet.append(dataset[x])"
   ]
  },
  {
   "cell_type": "code",
   "execution_count": 98,
   "id": "eb9b251f",
   "metadata": {},
   "outputs": [
    {
     "name": "stdout",
     "output_type": "stream",
     "text": [
      "Train: 94\n",
      "Test: 56\n"
     ]
    }
   ],
   "source": [
    "trainingSet=[]\n",
    "testSet=[]\n",
    "loadDataset(r'IRIS.csv', 0.66, trainingSet, testSet)\n",
    "print('Train: '+repr(len(trainingSet)))\n",
    "print('Test: '+repr(len(testSet)))"
   ]
  },
  {
   "cell_type": "code",
   "execution_count": 219,
   "id": "c6e0b54f",
   "metadata": {},
   "outputs": [],
   "source": [
    "# Now in order to make prediction we need to calculate the similarity between any two given instances\n",
    "# this is needed so that we locate the K msot similar data instances in the training dataset and in turn make predictions\n",
    "# Given that all four flower measurement are numeric and have same unit we can directly use Euclidean Distance\n",
    "# Our approach will be to limit the Euclidean distance to a fixed length\n",
    "import math\n",
    "def euclideanDistance(instance1, instance2, length):   # inst1 and inst2 are the points between which we have to find the euclidean distance and length denotes how many attributes we want to include\n",
    "    distance=0\n",
    "    for x in range(length):\n",
    "        distance+= pow(instance1[x]-instance2[x], 2)\n",
    "    return math.sqrt(distance)    "
   ]
  },
  {
   "cell_type": "code",
   "execution_count": 220,
   "id": "9674fd27",
   "metadata": {},
   "outputs": [
    {
     "name": "stdout",
     "output_type": "stream",
     "text": [
      "Distance:3.4641016151377544\n"
     ]
    }
   ],
   "source": [
    "data1=[2,2,2, 'a'] # belonging to class a\n",
    "data2=[4,4,4, 'b'] # class b\n",
    "distance=euclideanDistance(data1, data2, 3) # consider only first 3 elements\n",
    "print('Distance:'+repr(distance))"
   ]
  },
  {
   "cell_type": "code",
   "execution_count": 221,
   "id": "78d479e1",
   "metadata": {},
   "outputs": [],
   "source": [
    "# now we have to look for K nearest neighbours\n",
    "# now that we have a similarity measure we can use that to collect k most similar instances for a given unseen isntance\n",
    "# well this is a strainght forward process of calculating the distance for all the isntances and selecting the subset with the smallest distance value"
   ]
  },
  {
   "cell_type": "code",
   "execution_count": 222,
   "id": "9f608238",
   "metadata": {},
   "outputs": [],
   "source": [
    "# For gettiing the smallest distance values; for that we have to be defining the fucntions getNeighbours\n",
    "# it will return the k most similar neighbpours from the training set for given test instance\n",
    "# From this fucntion will get k different point having least Euclidean distance from the test instance\n",
    "import operator\n",
    "def getNeighbours(trainingSet, testInstance, k):   # k is the number of nearest neighbours u want to check for\n",
    "    distances=[]\n",
    "    length=len(testInstance)-1\n",
    "    for x in range(len(trainingSet)):\n",
    "        dist=euclideanDistance(testInstance, trainingSet[x], length)\n",
    "        distances.append((trainingSet[x], dist))\n",
    "    distances.sort(key=operator.itemgetter(1))\n",
    "    neighbours=[]\n",
    "    for x in range(k):\n",
    "        neighbours.append(distances[x][0])\n",
    "    return neighbours"
   ]
  },
  {
   "cell_type": "code",
   "execution_count": 223,
   "id": "41133de5",
   "metadata": {},
   "outputs": [
    {
     "name": "stdout",
     "output_type": "stream",
     "text": [
      "[[4, 4, 4, 'b']]\n"
     ]
    }
   ],
   "source": [
    "trainSet=[[2,2,2,'a'], [4,4,4, 'b']]\n",
    "testSet=[5,5,5]\n",
    "k=1\n",
    "neighbours=getNeighbours(trainSet, testSet,k)\n",
    "print(neighbours)"
   ]
  },
  {
   "cell_type": "code",
   "execution_count": 232,
   "id": "e6c457ee",
   "metadata": {},
   "outputs": [],
   "source": [
    "# Now we have to calculate the accuracy of our model\n",
    "# An easy way to do taht is to get the ratio of correct prediction/total predictions\n",
    "def getAccuracy(testSet, predictions):\n",
    "    correct=0\n",
    "    for x in range(len(testSet)):\n",
    "        if testSet[x][-1]==predictions[x]:\n",
    "            correct+=1\n",
    "    return (correct/float(len(testSet)))*100.0"
   ]
  },
  {
   "cell_type": "code",
   "execution_count": 233,
   "id": "02c20389",
   "metadata": {},
   "outputs": [
    {
     "name": "stdout",
     "output_type": "stream",
     "text": [
      "66.66666666666666\n"
     ]
    }
   ],
   "source": [
    "testSet=[[1,1,1,'a'], [2,2,2,'a'], [3,3,3,'b']]\n",
    "predictions=['a','a','a']\n",
    "pred= getAccuracy(testSet,predictions)\n",
    "print(pred)"
   ]
  },
  {
   "cell_type": "code",
   "execution_count": 235,
   "id": "798aaf5c",
   "metadata": {},
   "outputs": [
    {
     "name": "stdout",
     "output_type": "stream",
     "text": [
      "TrainSet: 91\n",
      "TestSet: 59\n",
      "> predicted='Iris-setosa'actual='Iris-setosa'\n",
      "> predicted='Iris-setosa'actual='Iris-setosa'\n",
      "> predicted='Iris-setosa'actual='Iris-setosa'\n",
      "> predicted='Iris-setosa'actual='Iris-setosa'\n",
      "> predicted='Iris-setosa'actual='Iris-setosa'\n",
      "> predicted='Iris-setosa'actual='Iris-setosa'\n",
      "> predicted='Iris-setosa'actual='Iris-setosa'\n",
      "> predicted='Iris-setosa'actual='Iris-setosa'\n",
      "> predicted='Iris-setosa'actual='Iris-setosa'\n",
      "> predicted='Iris-setosa'actual='Iris-setosa'\n",
      "> predicted='Iris-setosa'actual='Iris-setosa'\n",
      "> predicted='Iris-setosa'actual='Iris-setosa'\n",
      "> predicted='Iris-setosa'actual='Iris-setosa'\n",
      "> predicted='Iris-setosa'actual='Iris-setosa'\n",
      "> predicted='Iris-setosa'actual='Iris-setosa'\n",
      "> predicted='Iris-setosa'actual='Iris-setosa'\n",
      "> predicted='Iris-setosa'actual='Iris-setosa'\n",
      "> predicted='Iris-versicolor'actual='Iris-versicolor'\n",
      "> predicted='Iris-versicolor'actual='Iris-versicolor'\n",
      "> predicted='Iris-versicolor'actual='Iris-versicolor'\n",
      "> predicted='Iris-versicolor'actual='Iris-versicolor'\n",
      "> predicted='Iris-versicolor'actual='Iris-versicolor'\n",
      "> predicted='Iris-versicolor'actual='Iris-versicolor'\n",
      "> predicted='Iris-versicolor'actual='Iris-versicolor'\n",
      "> predicted='Iris-versicolor'actual='Iris-versicolor'\n",
      "> predicted='Iris-versicolor'actual='Iris-versicolor'\n",
      "> predicted='Iris-versicolor'actual='Iris-versicolor'\n",
      "> predicted='Iris-versicolor'actual='Iris-versicolor'\n",
      "> predicted='Iris-versicolor'actual='Iris-versicolor'\n",
      "> predicted='Iris-versicolor'actual='Iris-versicolor'\n",
      "> predicted='Iris-versicolor'actual='Iris-versicolor'\n",
      "> predicted='Iris-versicolor'actual='Iris-versicolor'\n",
      "> predicted='Iris-versicolor'actual='Iris-versicolor'\n",
      "> predicted='Iris-versicolor'actual='Iris-versicolor'\n",
      "> predicted='Iris-versicolor'actual='Iris-versicolor'\n",
      "> predicted='Iris-virginica'actual='Iris-virginica'\n",
      "> predicted='Iris-virginica'actual='Iris-virginica'\n",
      "> predicted='Iris-virginica'actual='Iris-virginica'\n",
      "> predicted='Iris-virginica'actual='Iris-virginica'\n",
      "> predicted='Iris-virginica'actual='Iris-virginica'\n",
      "> predicted='Iris-versicolor'actual='Iris-virginica'\n",
      "> predicted='Iris-virginica'actual='Iris-virginica'\n",
      "> predicted='Iris-virginica'actual='Iris-virginica'\n",
      "> predicted='Iris-virginica'actual='Iris-virginica'\n",
      "> predicted='Iris-virginica'actual='Iris-virginica'\n",
      "> predicted='Iris-virginica'actual='Iris-virginica'\n",
      "> predicted='Iris-virginica'actual='Iris-virginica'\n",
      "> predicted='Iris-virginica'actual='Iris-virginica'\n",
      "> predicted='Iris-virginica'actual='Iris-virginica'\n",
      "> predicted='Iris-virginica'actual='Iris-virginica'\n",
      "> predicted='Iris-virginica'actual='Iris-virginica'\n",
      "> predicted='Iris-virginica'actual='Iris-virginica'\n",
      "> predicted='Iris-virginica'actual='Iris-virginica'\n",
      "> predicted='Iris-versicolor'actual='Iris-virginica'\n",
      "> predicted='Iris-virginica'actual='Iris-virginica'\n",
      "> predicted='Iris-virginica'actual='Iris-virginica'\n",
      "> predicted='Iris-virginica'actual='Iris-virginica'\n",
      "> predicted='Iris-virginica'actual='Iris-virginica'\n",
      "> predicted='Iris-virginica'actual='Iris-virginica'\n",
      "Accuracy: 96.61016949152543% \n"
     ]
    }
   ],
   "source": [
    "def main():\n",
    "    # prepare data\n",
    "    trainingSet=[]\n",
    "    testSet=[]\n",
    "    split=0.67\n",
    "    loadDataset(r'IRIS.csv', split, trainingSet, testSet)\n",
    "    print('TrainSet: '+ repr(len(trainingSet)))\n",
    "    print('TestSet: '+ repr(len(testSet)))\n",
    "    \n",
    "    #generate predictions\n",
    "    predictions=[]\n",
    "    k=3\n",
    "    for x in range(len(testSet)):\n",
    "        neighbors=getNeighbours(trainingSet, testSet[x], k)\n",
    "        result=getResponse(neighbors)\n",
    "        predictions.append(result)\n",
    "        print('> predicted=' +repr(result) + 'actual=' + repr(testSet[x][-1]))\n",
    "    accuracy=getAccuracy(testSet,predictions)\n",
    "    print('Accuracy: '+ repr(accuracy)+'% ')\n",
    "    \n",
    "main()"
   ]
  },
  {
   "cell_type": "code",
   "execution_count": null,
   "id": "f1452808",
   "metadata": {},
   "outputs": [],
   "source": []
  }
 ],
 "metadata": {
  "kernelspec": {
   "display_name": "Python 3",
   "language": "python",
   "name": "python3"
  },
  "language_info": {
   "codemirror_mode": {
    "name": "ipython",
    "version": 3
   },
   "file_extension": ".py",
   "mimetype": "text/x-python",
   "name": "python",
   "nbconvert_exporter": "python",
   "pygments_lexer": "ipython3",
   "version": "3.8.11"
  }
 },
 "nbformat": 4,
 "nbformat_minor": 5
}
