{
 "cells": [
  {
   "cell_type": "code",
   "execution_count": 4,
   "metadata": {},
   "outputs": [
    {
     "name": "stdout",
     "output_type": "stream",
     "text": [
      "Independence Day\n"
     ]
    }
   ],
   "source": [
    "from datetime import date\n",
    "import holidays\n",
    "holidays=holidays.IND()\n",
    "date(2020,8,15) in holidays\n",
    "\n",
    "a = holidays.get('2020-08-15')\n",
    "print(a)"
   ]
  },
  {
   "cell_type": "code",
   "execution_count": 10,
   "metadata": {},
   "outputs": [
    {
     "name": "stdout",
     "output_type": "stream",
     "text": [
      "2020-01-14 Makar Sankranti / Pongal\n",
      "2020-01-26 Republic Day\n",
      "2020-05-01 Labour Day\n",
      "2020-08-15 Independence Day\n",
      "2020-10-02 Gandhi Jayanti\n",
      "2020-12-25 Christmas\n"
     ]
    }
   ],
   "source": [
    "from datetime import date\n",
    "import holidays\n",
    "for date,name in sorted(holidays.IND(state='UP',years=2020).items()):\n",
    "    print(date,name)"
   ]
  },
  {
   "cell_type": "code",
   "execution_count": null,
   "metadata": {},
   "outputs": [],
   "source": []
  }
 ],
 "metadata": {
  "kernelspec": {
   "display_name": "Python 3",
   "language": "python",
   "name": "python3"
  },
  "language_info": {
   "codemirror_mode": {
    "name": "ipython",
    "version": 3
   },
   "file_extension": ".py",
   "mimetype": "text/x-python",
   "name": "python",
   "nbconvert_exporter": "python",
   "pygments_lexer": "ipython3",
   "version": "3.8.3"
  }
 },
 "nbformat": 4,
 "nbformat_minor": 4
}
