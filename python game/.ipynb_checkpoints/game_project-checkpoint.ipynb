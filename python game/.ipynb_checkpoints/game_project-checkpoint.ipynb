{
 "cells": [
  {
   "cell_type": "code",
   "execution_count": null,
   "metadata": {},
   "outputs": [],
   "source": [
    "import pygame\n",
    "pygame.init()\n",
    "gray=(247,62,52)\n",
    "display_width=700\n",
    "display_height=500\n",
    "gamesdisplays=pygame.display.set_mode((display_width, display_height))\n",
    "pygame.display.set_caption(\"car game\")\n",
    "clock=pygame.time.Clock()\n",
    "def game_loop():\n",
    "    bumped=False\n",
    "    while not bumped:\n",
    "        for event in pygame.event.get():\n",
    "            if event.type==pygame.QUIT:\n",
    "                bumped=True\n",
    "                \n",
    "    gamedisplays.fill(gray)\n",
    "    pygame.display.update()\n",
    "    clock.tick(60)\n",
    "game_loop()\n",
    "pygame.quit()\n",
    "quit()"
   ]
  },
  {
   "cell_type": "code",
   "execution_count": null,
   "metadata": {},
   "outputs": [],
   "source": []
  },
  {
   "cell_type": "code",
   "execution_count": null,
   "metadata": {},
   "outputs": [],
   "source": []
  }
 ],
 "metadata": {
  "kernelspec": {
   "display_name": "Python 3",
   "language": "python",
   "name": "python3"
  },
  "language_info": {
   "codemirror_mode": {
    "name": "ipython",
    "version": 3
   },
   "file_extension": ".py",
   "mimetype": "text/x-python",
   "name": "python",
   "nbconvert_exporter": "python",
   "pygments_lexer": "ipython3",
   "version": "3.8.3"
  }
 },
 "nbformat": 4,
 "nbformat_minor": 4
}
