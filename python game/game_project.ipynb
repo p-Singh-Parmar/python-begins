{
 "cells": [
  {
   "cell_type": "code",
   "execution_count": null,
   "metadata": {},
   "outputs": [],
   "source": [
    "import pygame\n",
    "pygame.init()\n",
    "red=(247,62,52)\n",
    "display_width=700\n",
    "display_height=500\n",
    "gamesdisplays=pygame.display.set_mode((display_width, display_height))\n",
    "pygame.display.set_caption(\"car game\")\n",
    "clock=pygame.time.Clock()\n",
    "carimg=pygame.image.load(\"car.jpg\")\n",
    "\n",
    "def car(x,y):\n",
    "    gamedisplays.blit(carimg,(x,y))\n",
    "    \n",
    "def game_loop():\n",
    "    x=(display_width*0.45)\n",
    "    y=(display_height*0.8)\n",
    "    bumped=False\n",
    "    while not bumped:\n",
    "        for event in pygame.event.get():\n",
    "            if event.type==pygame.QUIT:\n",
    "                bumped=True\n",
    "                \n",
    "    gamedisplays.fill(red)\n",
    "    car(x,y)\n",
    "    pygame.display.update()\n",
    "    clock.tick(60)\n",
    "game_loop()\n",
    "pygame.quit()\n",
    "quit()"
   ]
  },
  {
   "cell_type": "code",
   "execution_count": null,
   "metadata": {},
   "outputs": [],
   "source": []
  },
  {
   "cell_type": "code",
   "execution_count": null,
   "metadata": {},
   "outputs": [],
   "source": []
  },
  {
   "cell_type": "code",
   "execution_count": null,
   "metadata": {},
   "outputs": [],
   "source": []
  },
  {
   "cell_type": "code",
   "execution_count": null,
   "metadata": {},
   "outputs": [],
   "source": []
  }
 ],
 "metadata": {
  "kernelspec": {
   "display_name": "Python 3",
   "language": "python",
   "name": "python3"
  },
  "language_info": {
   "codemirror_mode": {
    "name": "ipython",
    "version": 3
   },
   "file_extension": ".py",
   "mimetype": "text/x-python",
   "name": "python",
   "nbconvert_exporter": "python",
   "pygments_lexer": "ipython3",
   "version": "3.8.3"
  }
 },
 "nbformat": 4,
 "nbformat_minor": 4
}
