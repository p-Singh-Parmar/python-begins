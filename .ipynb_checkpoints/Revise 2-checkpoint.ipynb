{
 "cells": [
  {
   "cell_type": "code",
   "execution_count": 11,
   "metadata": {},
   "outputs": [
    {
     "ename": "TypeError",
     "evalue": "'list' object is not callable",
     "output_type": "error",
     "traceback": [
      "\u001b[1;31m---------------------------------------------------------------------------\u001b[0m",
      "\u001b[1;31mTypeError\u001b[0m                                 Traceback (most recent call last)",
      "\u001b[1;32m<ipython-input-11-606cfdd758c9>\u001b[0m in \u001b[0;36m<module>\u001b[1;34m\u001b[0m\n\u001b[0;32m      1\u001b[0m \u001b[0mnums\u001b[0m\u001b[1;33m=\u001b[0m\u001b[1;33m[\u001b[0m\u001b[1;36m1\u001b[0m\u001b[1;33m,\u001b[0m\u001b[1;36m2\u001b[0m\u001b[1;33m,\u001b[0m\u001b[1;36m3\u001b[0m\u001b[1;33m,\u001b[0m\u001b[1;36m3\u001b[0m\u001b[1;33m]\u001b[0m\u001b[1;33m\u001b[0m\u001b[1;33m\u001b[0m\u001b[0m\n\u001b[1;32m----> 2\u001b[1;33m \u001b[0mdup\u001b[0m\u001b[1;33m=\u001b[0m\u001b[0mset\u001b[0m\u001b[1;33m(\u001b[0m\u001b[1;33m)\u001b[0m\u001b[1;33m\u001b[0m\u001b[1;33m\u001b[0m\u001b[0m\n\u001b[0m\u001b[0;32m      3\u001b[0m \u001b[1;32mfor\u001b[0m \u001b[0mi\u001b[0m \u001b[1;32min\u001b[0m \u001b[0mk\u001b[0m\u001b[1;33m:\u001b[0m\u001b[1;33m\u001b[0m\u001b[1;33m\u001b[0m\u001b[0m\n\u001b[0;32m      4\u001b[0m     \u001b[0mset\u001b[0m\u001b[1;33m.\u001b[0m\u001b[0madd\u001b[0m\u001b[1;33m(\u001b[0m\u001b[0mi\u001b[0m\u001b[1;33m)\u001b[0m\u001b[1;33m\u001b[0m\u001b[1;33m\u001b[0m\u001b[0m\n\u001b[0;32m      5\u001b[0m \u001b[0mdup\u001b[0m\u001b[1;33m\u001b[0m\u001b[1;33m\u001b[0m\u001b[0m\n",
      "\u001b[1;31mTypeError\u001b[0m: 'list' object is not callable"
     ]
    }
   ],
   "source": [
    "nums=[1,2,3,3]\n",
    "dup = set()\n",
    "for i in k:\n",
    "    set.add(i)\n",
    "dup"
   ]
  },
  {
   "cell_type": "code",
   "execution_count": 15,
   "metadata": {},
   "outputs": [
    {
     "ename": "TypeError",
     "evalue": "'list' object is not callable",
     "output_type": "error",
     "traceback": [
      "\u001b[1;31m---------------------------------------------------------------------------\u001b[0m",
      "\u001b[1;31mTypeError\u001b[0m                                 Traceback (most recent call last)",
      "\u001b[1;32m<ipython-input-15-fc66fa3e4477>\u001b[0m in \u001b[0;36m<module>\u001b[1;34m\u001b[0m\n\u001b[1;32m----> 1\u001b[1;33m \u001b[0md\u001b[0m\u001b[1;33m=\u001b[0m\u001b[0mset\u001b[0m\u001b[1;33m(\u001b[0m\u001b[1;33m)\u001b[0m\u001b[1;33m\u001b[0m\u001b[1;33m\u001b[0m\u001b[0m\n\u001b[0m\u001b[0;32m      2\u001b[0m \u001b[0mtype\u001b[0m\u001b[1;33m(\u001b[0m\u001b[0md\u001b[0m\u001b[1;33m)\u001b[0m\u001b[1;33m\u001b[0m\u001b[1;33m\u001b[0m\u001b[0m\n",
      "\u001b[1;31mTypeError\u001b[0m: 'list' object is not callable"
     ]
    }
   ],
   "source": [
    "d=set()\n",
    "type(d)"
   ]
  },
  {
   "cell_type": "code",
   "execution_count": 24,
   "metadata": {},
   "outputs": [
    {
     "name": "stdout",
     "output_type": "stream",
     "text": [
      "200\n"
     ]
    }
   ],
   "source": [
    "global s\n",
    "s=10\n",
    "def new():\n",
    "    global s\n",
    "    s=s*20\n",
    "    print(s)\n",
    "    \n",
    "new()"
   ]
  },
  {
   "cell_type": "code",
   "execution_count": 65,
   "metadata": {},
   "outputs": [
    {
     "name": "stdout",
     "output_type": "stream",
     "text": [
      "fl\n"
     ]
    }
   ],
   "source": [
    "ls = [\"flower\", \"flaw\", \"floor\"]\n",
    "minl=len(ls[0])\n",
    "for i in ls:\n",
    "    minl = min(minl, len(i))\n",
    "k=0    \n",
    "flag=True\n",
    "new=\"\"\n",
    "st=\"\"\n",
    "while flag is True:\n",
    "    new=new+st\n",
    "    if k==minl: break\n",
    "    for j in range(len(ls)):\n",
    "        st=ls[0][k]\n",
    "        if ls[j][k]==st:\n",
    "            flag=True\n",
    "        else:\n",
    "            flag=False\n",
    "            break\n",
    "            \n",
    "    k+=1\n",
    "print(new)"
   ]
  },
  {
   "cell_type": "code",
   "execution_count": 2,
   "metadata": {},
   "outputs": [
    {
     "data": {
      "text/plain": [
       "4"
      ]
     },
     "execution_count": 2,
     "metadata": {},
     "output_type": "execute_result"
    }
   ],
   "source": [
    "minl"
   ]
  },
  {
   "cell_type": "code",
   "execution_count": 11,
   "metadata": {},
   "outputs": [
    {
     "data": {
      "text/plain": [
       "''"
      ]
     },
     "execution_count": 11,
     "metadata": {},
     "output_type": "execute_result"
    }
   ],
   "source": [
    "a=\"\"\n",
    "b=\"\"\n",
    "a+b"
   ]
  },
  {
   "cell_type": "code",
   "execution_count": 17,
   "metadata": {},
   "outputs": [
    {
     "name": "stdout",
     "output_type": "stream",
     "text": [
      "d\n",
      "dv\n",
      "df\n",
      "dv\n"
     ]
    }
   ],
   "source": [
    "p=\"dvdf\"\n",
    "new=\"\"\n",
    "st=0\n",
    "big=new\n",
    "for i in range(len(p)):\n",
    "    if new.find(p[i])==-1:\n",
    "        new=p[st:(i+1)]\n",
    "        print(new)\n",
    "    else:\n",
    "        big=max(big,new)\n",
    "        st=i\n",
    "        \n",
    "print(big)    "
   ]
  },
  {
   "cell_type": "code",
   "execution_count": 24,
   "metadata": {},
   "outputs": [
    {
     "name": "stdout",
     "output_type": "stream",
     "text": [
      "d\n",
      "dv\n",
      "vdf\n"
     ]
    }
   ],
   "source": [
    "s=\"dvdf\"\n",
    "lst = [0]\n",
    "subs = \"\"\n",
    "for r in range(len(s)):\n",
    "    if s[r] not in subs :\n",
    "        subs = subs + s[r]\n",
    "        print(subs)\n",
    "    else:\n",
    "        #print(subs)\n",
    "        lst.append(len(subs))\n",
    "        ind = subs.find(s[r])\n",
    "        subs = subs[ind+1:]\n",
    "        subs = subs+s[r]\n",
    "        \n",
    "lst.append(len(subs))\n",
    "#print((lst))"
   ]
  },
  {
   "cell_type": "code",
   "execution_count": 45,
   "metadata": {},
   "outputs": [
    {
     "name": "stdout",
     "output_type": "stream",
     "text": [
      "[1, 2, 3]\n"
     ]
    },
    {
     "data": {
      "text/plain": [
       "[1, 2, 2, 3, 4, 7]"
      ]
     },
     "execution_count": 45,
     "metadata": {},
     "output_type": "execute_result"
    }
   ],
   "source": [
    "n1=[1,2,3,0,0,0]\n",
    "m=3\n",
    "n2=[2,4,7]\n",
    "\n",
    "l=len(n1)-1\n",
    "\n",
    "while l>=m:\n",
    "        n1.pop(l)\n",
    "        l-=1\n",
    "print(n1)\n",
    "for i in n2:\n",
    "    n1.append(i)\n",
    "\n",
    "n1.sort()\n",
    "n1"
   ]
  },
  {
   "cell_type": "code",
   "execution_count": 30,
   "metadata": {},
   "outputs": [
    {
     "data": {
      "text/plain": [
       "2"
      ]
     },
     "execution_count": 30,
     "metadata": {},
     "output_type": "execute_result"
    }
   ],
   "source": [
    "n=[1,2,3]\n",
    "n.pop(1)"
   ]
  },
  {
   "cell_type": "code",
   "execution_count": 50,
   "metadata": {},
   "outputs": [
    {
     "data": {
      "text/plain": [
       "['a', 'b', 'h', 'i', 'g', 'y', 'n']"
      ]
     },
     "execution_count": 50,
     "metadata": {},
     "output_type": "execute_result"
    }
   ],
   "source": [
    "k=['a','b','h','i','g','y','a','n']\n",
    "sub=[]\n",
    "for i in k:\n",
    "    if i not in sub:\n",
    "        sub.append(i)\n",
    "        \n",
    "sub"
   ]
  },
  {
   "cell_type": "code",
   "execution_count": 89,
   "metadata": {},
   "outputs": [
    {
     "name": "stdout",
     "output_type": "stream",
     "text": [
      "found\n"
     ]
    }
   ],
   "source": [
    "s=[\"bella\",\"label\",\"robler\"]\n",
    "k=[\"a\",\"b\",\"c\"]\n",
    "sub=[]\n",
    "f=s[0][1]\n",
    "#for i in s:\n",
    "if f in k:\n",
    "    print(\"fuck\")\n",
    "else:\n",
    "    print(\"found\")\n",
    "            "
   ]
  },
  {
   "cell_type": "code",
   "execution_count": 85,
   "metadata": {},
   "outputs": [
    {
     "name": "stdout",
     "output_type": "stream",
     "text": [
      "[]\n"
     ]
    }
   ],
   "source": [
    "def common():\n",
    "    s=[\"l\",\"l\",\"l\"]\n",
    "    \n",
    "    mlen=0\n",
    "    for i in s:\n",
    "        mlen =  min(mlen,len(i))\n",
    "\n",
    "    ls=[];  i=0; wrd=[]\n",
    "    flag=False\n",
    "    \n",
    "    while i<mlen:\n",
    "        f=s[0][i]\n",
    "        for x in s:\n",
    "            wrd=split(x);\n",
    "            if f in wrd:\n",
    "                flag=True\n",
    "            else:\n",
    "                flag=False\n",
    "            \n",
    "        \n",
    "        if flag==True:\n",
    "            ls.append(f)\n",
    "    \n",
    "        i+=1\n",
    "    print(ls)\n",
    "    \n",
    "def split(word):\n",
    "    return [char for char in word]\n",
    "\n",
    "common()"
   ]
  },
  {
   "cell_type": "code",
   "execution_count": 104,
   "metadata": {},
   "outputs": [
    {
     "name": "stdout",
     "output_type": "stream",
     "text": [
      "{2}\n",
      "[2, 2]\n"
     ]
    }
   ],
   "source": [
    "n1=[1,2,2,1]\n",
    "n2=[2,2]\n",
    "ls=[]\n",
    "both = set(n1) and set(n2)  #for finding common element\n",
    "\n",
    "for i in both:\n",
    "    for j in range(min(n1.count(i),n2.count(i)) ):\n",
    "        ls.append(i)\n",
    "\n",
    "print(both)\n",
    "print(ls)\n"
   ]
  },
  {
   "cell_type": "code",
   "execution_count": 130,
   "metadata": {},
   "outputs": [
    {
     "name": "stdout",
     "output_type": "stream",
     "text": [
      "[2]\n"
     ]
    }
   ],
   "source": [
    "n1=[1,2,2,1]\n",
    "n2=[2]\n",
    "ls=[]\n",
    "\n",
    "for i in n1:\n",
    "    if i in n2:\n",
    "        ls.append(i)\n",
    "        n2.remove(i)\n",
    "        \n",
    "print(ls)"
   ]
  },
  {
   "cell_type": "code",
   "execution_count": 128,
   "metadata": {},
   "outputs": [
    {
     "name": "stdout",
     "output_type": "stream",
     "text": [
      "{'e', 'b', 'a', 'l'}\n",
      "['e', 'a', 'l']\n"
     ]
    }
   ],
   "source": [
    "s=[\"bella\", \"roller\"]\n",
    "k=s[0]\n",
    "\n",
    "for i in s:\n",
    "    k = set(k) & set(i)\n",
    "ls=list(both)\n",
    "\n",
    "for i in s:\n",
    "    for j in ls:\n",
    "        if i.count(j)==0:\n",
    "            ls.remove(j)\n",
    "print(both)\n",
    "print(ls)"
   ]
  },
  {
   "cell_type": "code",
   "execution_count": 111,
   "metadata": {},
   "outputs": [
    {
     "data": {
      "text/plain": [
       "0"
      ]
     },
     "execution_count": 111,
     "metadata": {},
     "output_type": "execute_result"
    }
   ],
   "source": [
    "s=\"ps\"\n",
    "s.count(\"k\")"
   ]
  },
  {
   "cell_type": "code",
   "execution_count": 138,
   "metadata": {},
   "outputs": [
    {
     "name": "stdout",
     "output_type": "stream",
     "text": [
      "6\n"
     ]
    }
   ],
   "source": [
    "height = [0,1,0,2,1,0,1,3,2,1,2,1]\n",
    "n=len(height)\n",
    "left=0; right=n-1; mle=0; mre=0; rain=0\n",
    "        \n",
    "        \n",
    "while left<=right:\n",
    "            \n",
    "    if height[left]<= height[right]:\n",
    "                \n",
    "        if height[left]>=mle:\n",
    "            mle= height[left]\n",
    "        else:\n",
    "            rain+=mle-height[left]\n",
    "                \n",
    "        left+=1\n",
    "                    \n",
    "    else:\n",
    "        if height[right]>=mre:\n",
    "            mre= height[right]\n",
    "        else:\n",
    "            rain+=mre-height[right]\n",
    "        \n",
    "        right-=1\n",
    "                    \n",
    "print(rain)"
   ]
  },
  {
   "cell_type": "code",
   "execution_count": null,
   "metadata": {},
   "outputs": [],
   "source": []
  }
 ],
 "metadata": {
  "kernelspec": {
   "display_name": "Python 3",
   "language": "python",
   "name": "python3"
  },
  "language_info": {
   "codemirror_mode": {
    "name": "ipython",
    "version": 3
   },
   "file_extension": ".py",
   "mimetype": "text/x-python",
   "name": "python",
   "nbconvert_exporter": "python",
   "pygments_lexer": "ipython3",
   "version": "3.8.3"
  }
 },
 "nbformat": 4,
 "nbformat_minor": 4
}
