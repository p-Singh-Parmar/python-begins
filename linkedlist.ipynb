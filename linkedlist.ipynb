{
 "cells": [
  {
   "cell_type": "code",
   "execution_count": 5,
   "metadata": {},
   "outputs": [
    {
     "name": "stdout",
     "output_type": "stream",
     "text": [
      "10\n",
      "20\n",
      "30\n",
      "40\n",
      "\n",
      "20\n",
      "30\n",
      "40\n"
     ]
    }
   ],
   "source": [
    "class node:\n",
    "    def __init__(self,data):\n",
    "        self.data=data\n",
    "        self.next=None;\n",
    "        \n",
    "class LinkedList:\n",
    "    def __init__(self):\n",
    "        self.start=None;\n",
    "        \n",
    "    def insertLast(self,value):\n",
    "        newnode = node(value)\n",
    "        if(self.start==None):\n",
    "            self.start=newnode;\n",
    "        else:\n",
    "            temp=self.start\n",
    "            while temp.next!=None:\n",
    "                temp=temp.next\n",
    "            temp.next=newnode\n",
    "            \n",
    "    def delFirst(self):\n",
    "        if(self.start==None):\n",
    "            print(\"list is empty\")\n",
    "        else:\n",
    "            temp=self.start\n",
    "            self.start=temp.next\n",
    "            \n",
    "    def display(self):\n",
    "        if self.start==None:\n",
    "            print(\"list is empty\")\n",
    "        else:\n",
    "            temp=self.start\n",
    "            while(temp!=None):\n",
    "                print(temp.data)\n",
    "                temp=temp.next\n",
    "                \n",
    "ll=LinkedList()\n",
    "ll.insertLast(10)\n",
    "ll.insertLast(20)\n",
    "ll.insertLast(30)\n",
    "ll.insertLast(40)\n",
    "ll.display()\n",
    "ll.delFirst()\n",
    "print()\n",
    "ll.display()\n",
    "\n"
   ]
  },
  {
   "cell_type": "code",
   "execution_count": null,
   "metadata": {},
   "outputs": [],
   "source": []
  }
 ],
 "metadata": {
  "kernelspec": {
   "display_name": "Python 3",
   "language": "python",
   "name": "python3"
  },
  "language_info": {
   "codemirror_mode": {
    "name": "ipython",
    "version": 3
   },
   "file_extension": ".py",
   "mimetype": "text/x-python",
   "name": "python",
   "nbconvert_exporter": "python",
   "pygments_lexer": "ipython3",
   "version": "3.8.3"
  }
 },
 "nbformat": 4,
 "nbformat_minor": 4
}
