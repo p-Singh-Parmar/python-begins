{
 "cells": [
  {
   "cell_type": "markdown",
   "id": "56c5a647",
   "metadata": {},
   "source": [
    "The programming assignment for this week is :\n",
    "From the above given text, we have to separate the mail IDs using spilt function and then, find out the number of gmails, yahoos, outlooks etc\n",
    "\n",
    "We should make use of dictionaries with gmail, yahoo, outlook as keys and the number of mail IDs corresponding to those as values\n"
   ]
  },
  {
   "cell_type": "code",
   "execution_count": 66,
   "id": "ea6f4a4d",
   "metadata": {},
   "outputs": [],
   "source": [
    "import os\n",
    "import pandas as pd"
   ]
  },
  {
   "cell_type": "code",
   "execution_count": 67,
   "id": "9831c2f5",
   "metadata": {},
   "outputs": [
    {
     "data": {
      "text/plain": [
       "str"
      ]
     },
     "execution_count": 67,
     "metadata": {},
     "output_type": "execute_result"
    }
   ],
   "source": [
    "m=open('Mail.txt', 'r')\n",
    "read=m.read()\n",
    "type(read)"
   ]
  },
  {
   "cell_type": "code",
   "execution_count": 68,
   "id": "a1ba4cd2",
   "metadata": {},
   "outputs": [],
   "source": [
    "r1=read.split('\\n')"
   ]
  },
  {
   "cell_type": "code",
   "execution_count": 69,
   "id": "bc4c5b15",
   "metadata": {},
   "outputs": [],
   "source": [
    "df=DataFrame(r1, columns=['Emails'])"
   ]
  },
  {
   "cell_type": "code",
   "execution_count": 70,
   "id": "7318c793",
   "metadata": {},
   "outputs": [
    {
     "data": {
      "text/plain": [
       "dtype('O')"
      ]
     },
     "execution_count": 70,
     "metadata": {},
     "output_type": "execute_result"
    }
   ],
   "source": [
    "df['Emails'].dtype"
   ]
  },
  {
   "cell_type": "code",
   "execution_count": 71,
   "id": "4e763165",
   "metadata": {},
   "outputs": [],
   "source": [
    "df['username']=df['Emails'].astype(str).apply(lambda x:x.split('@')[0])"
   ]
  },
  {
   "cell_type": "code",
   "execution_count": 72,
   "id": "7fcc4e3e",
   "metadata": {},
   "outputs": [],
   "source": [
    "df['domains']=df['Emails'].astype(str).apply(lambda y:y.split('@')[1])"
   ]
  },
  {
   "cell_type": "code",
   "execution_count": 73,
   "id": "b9446152",
   "metadata": {},
   "outputs": [
    {
     "data": {
      "text/plain": [
       "outlook.com    18\n",
       "yahoo.com      16\n",
       "gov.in         14\n",
       "gmail.com      12\n",
       "Name: domains, dtype: int64"
      ]
     },
     "execution_count": 73,
     "metadata": {},
     "output_type": "execute_result"
    }
   ],
   "source": [
    "counts=df['domains'].value_counts()\n",
    "counts"
   ]
  },
  {
   "cell_type": "code",
   "execution_count": 74,
   "id": "6c274096",
   "metadata": {},
   "outputs": [],
   "source": [
    "dict={'OUTLOOK':counts[0], 'YAHOO':counts[1], 'GOV':counts[2], 'GMAIL':counts[3]}"
   ]
  },
  {
   "cell_type": "code",
   "execution_count": 75,
   "id": "8f5cc90e",
   "metadata": {},
   "outputs": [
    {
     "name": "stdout",
     "output_type": "stream",
     "text": [
      "{'OUTLOOK': 18, 'YAHOO': 16, 'GOV': 14, 'GMAIL': 12}\n"
     ]
    }
   ],
   "source": [
    "print(dict)"
   ]
  },
  {
   "cell_type": "code",
   "execution_count": 76,
   "id": "b89d7ff2",
   "metadata": {},
   "outputs": [],
   "source": [
    "import matplotlib.pyplot as plt"
   ]
  },
  {
   "cell_type": "code",
   "execution_count": 77,
   "id": "b76748de",
   "metadata": {},
   "outputs": [
    {
     "data": {
      "image/png": "[encoded data removed]",
      "text/plain": [
       "<Figure size 288x360 with 1 Axes>"
      ]
     },
     "metadata": {
      "needs_background": "light"
     },
     "output_type": "display_data"
    }
   ],
   "source": [
    "plt.figure(figsize=(4,5))\n",
    "ax=df['domains'].value_counts().plot.bar()\n",
    "#ax.xaxis.label.set_color('red')\n",
    "ax.tick_params(axis='x', colors='red')\n",
    "#ax.yaxis.label.set_color('green')\n",
    "ax.tick_params(axis='y', colors='green')\n",
    "plt.show()"
   ]
  },
  {
   "cell_type": "code",
   "execution_count": null,
   "id": "8ccadcc0",
   "metadata": {},
   "outputs": [],
   "source": []
  }
 ],
 "metadata": {
  "kernelspec": {
   "display_name": "Python 3",
   "language": "python",
   "name": "python3"
  },
  "language_info": {
   "codemirror_mode": {
    "name": "ipython",
    "version": 3
   },
   "file_extension": ".py",
   "mimetype": "text/x-python",
   "name": "python",
   "nbconvert_exporter": "python",
   "pygments_lexer": "ipython3",
   "version": "3.8.8"
  }
 },
 "nbformat": 4,
 "nbformat_minor": 5
}
